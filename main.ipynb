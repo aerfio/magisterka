{
 "nbformat": 4,
 "nbformat_minor": 2,
 "metadata": {
  "language_info": {
   "name": "python",
   "codemirror_mode": {
    "name": "ipython",
    "version": 3
   },
   "version": "3.7.7-final"
  },
  "orig_nbformat": 2,
  "file_extension": ".py",
  "mimetype": "text/x-python",
  "name": "python",
  "npconvert_exporter": "python",
  "pygments_lexer": "ipython3",
  "version": 3,
  "kernelspec": {
   "name": "python37764bitvenvvenv07056f12f87c4c6fa7d060979708382c",
   "display_name": "Python 3.7.7 64-bit ('venv': venv)"
  }
 },
 "cells": [
  {
   "cell_type": "code",
   "execution_count": 3,
   "metadata": {},
   "outputs": [
    {
     "output_type": "stream",
     "name": "stdout",
     "text": "Date Timestamp     Open     High      Low    Close       Volume\n0  20150125  22:00:00  1.11521  1.11562  1.11378  1.11380   767.030002\n1  20150125  22:15:00  1.11380  1.11447  1.11354  1.11422   775.439999\n2  20150125  22:30:00  1.11426  1.11491  1.11413  1.11482   601.629998\n3  20150125  22:45:00  1.11483  1.11485  1.11422  1.11430   629.209997\n4  20150125  23:00:00  1.11438  1.11489  1.11397  1.11425  1674.320000\n"
    }
   ],
   "source": [
    "import pandas as pd\n",
    "\n",
    "dataset_location=\"./datasets/eurusd-m15-2018/EURUSD.csv\"\n",
    "\n",
    "df = pd.read_csv(dataset_location, sep=\",\")\n",
    "print(df.head())"
   ]
  },
  {
   "cell_type": "code",
   "execution_count": null,
   "metadata": {},
   "outputs": [],
   "source": []
  }
 ]
}