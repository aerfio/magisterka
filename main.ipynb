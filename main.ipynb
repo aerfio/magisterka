{
  "cells": [
    {
      "cell_type": "code",
      "metadata": {
        "id": "DL8NhQ4-Lad_",
        "colab_type": "code",
        "outputId": "17676057-542e-4499-b371-635a2409e4c3",
        "colab": {
          "base_uri": "https://localhost:8080/",
          "height": 34
        }
      },
      "source": [
        "from sklearn.preprocessing import MinMaxScaler\n",
        "from sklearn.metrics import mean_squared_error, mean_absolute_error\n",
        "import pandas as pd\n",
        "import numpy as np\n",
        "import matplotlib.pyplot as plt\n",
        "import datetime, os, time"
      ],
      "execution_count": null,
      "outputs": []
    },
    {
      "cell_type": "code",
      "metadata": {
        "id": "cqo3Vth1LaeG",
        "colab_type": "code",
        "outputId": "7aba29e9-b78e-43d9-f028-23ccf0eecd88",
        "colab": {
          "base_uri": "https://localhost:8080/",
          "height": 119
        }
      },
      "source": [
        "dataset_location = \"/Users/i354746/private/magisterka/datasets/eurusd-m15-2018/EURUSD.csv\"\n",
        "\n",
        "df = pd.read_csv(dataset_location)\n",
        "\n",
        "print(df.head())"
      ],
      "execution_count": null,
      "outputs": []
    },
    {
      "cell_type": "code",
      "metadata": {
        "id": "vyeINZ9zLaeJ",
        "colab_type": "code",
        "outputId": "4195c6eb-974f-4f0e-edde-a3f279bd4a50",
        "colab": {
          "base_uri": "https://localhost:8080/",
          "height": 153
        }
      },
      "source": [
        "print(df.count())"
      ],
      "execution_count": null,
      "outputs": []
    },
    {
      "cell_type": "code",
      "metadata": {
        "id": "cHy6oL7OLaeM",
        "colab_type": "code",
        "colab": {}
      },
      "source": [
        "df.rename(columns={\n",
        "    'Open': 'open', 'Close': 'close',\n",
        "    'High': 'high', 'Low': 'low',\n",
        "    'Close': 'close', 'Volume': 'volume',\n",
        "    \"Date\": \"date\", 'Timestamp': 'timestamp', }, inplace=True)\n",
        "\n",
        "\n",
        "df[\"timestamp\"] = df[\"date\"].astype(str) + \" \" + df[\"timestamp\"]\n",
        "df.drop(\"date\", 1, inplace=True)\n",
        "df.rename(columns={'Time': 'timestamp', 'Open': 'open', 'Close': 'close',\n",
        "                   'High': 'high', 'Low': 'low', 'Close': 'close', 'Volume': 'volume'}, inplace=True)\n",
        "df['timestamp'] = pd.to_datetime(df['timestamp'], infer_datetime_format=True)\n",
        "df.set_index('timestamp', inplace=True)\n",
        "df = df.astype(float)\n",
        "\n",
        "# Add additional features\n",
        "df['momentum'] = df['volume'] * (df['open'] - df['close'])\n",
        "df['avg_price'] = (df['low'] + df['high']) / 2\n",
        "# df['range'] = df['high'] - df['low']\n",
        "df['ohlc_price'] = (df['low'] + df['high'] + df['open'] + df['close']) / 4\n",
        "df['oc_diff'] = df['open'] - df['close']"
      ],
      "execution_count": null,
      "outputs": []
    },
    {
      "cell_type": "code",
      "metadata": {
        "id": "J-z9J-R_LaeQ",
        "colab_type": "code",
        "outputId": "d802fca8-18e2-4fc6-c1d9-c458e710d778",
        "colab": {
          "base_uri": "https://localhost:8080/",
          "height": 51
        }
      },
      "source": [
        "def create_dataset(dataset, look_back=20):\n",
        "    dataX, dataY = [], []\n",
        "    for i in range(len(dataset) - look_back - 1):\n",
        "        a = dataset[i:(i + look_back)]\n",
        "        dataX.append(a)\n",
        "        dataY.append(dataset[i + look_back])\n",
        "    return np.array(dataX), np.array(dataY)\n",
        "\n",
        "\n",
        "# Scale and create datasets\n",
        "target_index = df.columns.tolist().index('close')\n",
        "high_index = df.columns.tolist().index('high')\n",
        "low_index = df.columns.tolist().index('low')\n",
        "dataset = df.values.astype('float32')\n",
        "\n",
        "# Scale the data\n",
        "scaler = MinMaxScaler(feature_range=(0, 1))\n",
        "dataset = scaler.fit_transform(dataset)\n",
        "\n",
        "# Create y_scaler to inverse it later\n",
        "y_scaler = MinMaxScaler(feature_range=(0, 1))\n",
        "t_y = df['close'].values.astype('float32')\n",
        "t_y = np.reshape(t_y, (-1, 1))\n",
        "y_scaler = y_scaler.fit(t_y)\n",
        "\n",
        "X, y = create_dataset(dataset, look_back=50)\n",
        "y = y[:, target_index]\n",
        "\n",
        "train_size = int(len(X) * 0.99)\n",
        "trainX = X[:train_size]\n",
        "trainY = y[:train_size]\n",
        "testX = X[train_size:]\n",
        "testY = y[train_size:]\n",
        "\n",
        "print(trainX[0][0])"
      ],
      "execution_count": null,
      "outputs": []
    }
  ],
  "metadata": {
    "orig_nbformat": 2,
    "file_extension": ".py",
    "mimetype": "text/x-python",
    "name": "python",
    "npconvert_exporter": "python",
    "pygments_lexer": "ipython3",
    "version": 3,
    "kernelspec": {
      "name": "python3",
      "display_name": "Python 3"
    },
    "colab": {
      "name": "main.ipynb",
      "provenance": [],
      "collapsed_sections": []
    },
    "accelerator": "TPU"
  },
  "nbformat": 4,
  "nbformat_minor": 0
}