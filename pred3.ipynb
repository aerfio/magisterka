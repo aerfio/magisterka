{
 "cells": [
  {
   "cell_type": "code",
   "execution_count": null,
   "metadata": {},
   "outputs": [],
   "source": [
    "import os\n",
    "os.environ[\"KERAS_BACKEND\"] = \"plaidml.keras.backend\"\n",
    "import numpy as np\n",
    "import pandas as pd\n",
    "import matplotlib.pyplot as plt\n",
    "import pandas as pd \n",
    "from sklearn.preprocessing import MinMaxScaler\n",
    "from sklearn.model_selection import train_test_split\n",
    "from tensorflow.keras.models import Sequential, load_model\n",
    "from tensorflow.keras.layers import LSTM, Dense, Dropout, BatchNormalization, GRU\n",
    "from tensorflow.keras.optimizers import Adam, RMSprop\n",
    "from tensorflow.keras.backend import square, mean\n",
    "from tensorflow.python.keras.initializers import RandomUniform\n",
    "from tensorflow.keras.callbacks import TensorBoard, ReduceLROnPlateau, LearningRateScheduler\n",
    "import time\n",
    "\n",
    "\n",
    "SEQ_LEN=720\n",
    "OUTPUT_LEN=60\n",
    "EPOCHS=2\n",
    "STEPS_PER_EPOCH=100\n",
    "BATCH_SIZE=256\n",
    "TARGET_VALUE=\"close\"\n",
    "sequence_length = 60\n",
    "shift_steps=10\n",
    "warmup_steps = 50"
   ]
  },
  {
   "cell_type": "code",
   "execution_count": null,
   "metadata": {},
   "outputs": [],
   "source": [
    "# url = \"./datasets/DAT_ASCII_EURUSD_M1_2018.csv\"\n",
    "url = \"./datasets/eurusd-m15-2018/EURUSD.csv\"\n",
    "df = pd.read_csv(url)\n",
    "df.drop(\"Volume\", 1, inplace=True)\n",
    "df.drop(\"Date\", 1, inplace=True)\n",
    "df.drop(\"Timestamp\", 1, inplace=True)\n",
    "\n",
    "df.head()"
   ]
  },
  {
   "cell_type": "code",
   "execution_count": null,
   "metadata": {},
   "outputs": [],
   "source": [
    "df.plot(subplots=True, layout=(2, 2), figsize=(40, 20), sharex=False)"
   ]
  },
  {
   "cell_type": "code",
   "execution_count": null,
   "metadata": {
    "tags": []
   },
   "outputs": [],
   "source": [
    "data_set = df.iloc[:, 2:3].values #close\n",
    "print(data_set)"
   ]
  },
  {
   "cell_type": "code",
   "execution_count": null,
   "metadata": {
    "tags": []
   },
   "outputs": [],
   "source": [
    "print(data_set.shape)"
   ]
  },
  {
   "cell_type": "code",
   "execution_count": null,
   "metadata": {
    "tags": []
   },
   "outputs": [],
   "source": [
    "sc = MinMaxScaler(feature_range=(0,1))\n",
    "training_set_scaled = sc.fit_transform(data_set)\n",
    "training_set_scaled.size"
   ]
  },
  {
   "cell_type": "code",
   "execution_count": null,
   "metadata": {
    "tags": []
   },
   "outputs": [],
   "source": [
    "X_train = []\n",
    "y_train = []\n",
    "for i in range(SEQ_LEN, training_set_scaled.size-OUTPUT_LEN):\n",
    "    X_train.append(training_set_scaled[i-SEQ_LEN:i, 0])\n",
    "    y_train.append(np.array(training_set_scaled[i:i+OUTPUT_LEN, 0]))\n",
    "X_train, y_train = np.array(X_train), np.array(y_train)\n",
    "\n",
    "print(X_train[0])\n",
    "print(y_train[0])"
   ]
  },
  {
   "cell_type": "code",
   "execution_count": null,
   "metadata": {
    "tags": []
   },
   "outputs": [],
   "source": [
    "X_train = np.reshape(np.asarray(X_train).astype(np.float32), (X_train.shape[0], X_train.shape[1], 1))\n",
    "print(X_train.shape)"
   ]
  },
  {
   "cell_type": "code",
   "execution_count": null,
   "metadata": {
    "tags": []
   },
   "outputs": [],
   "source": [
    "print(y_train[0])"
   ]
  },
  {
   "cell_type": "code",
   "execution_count": null,
   "metadata": {},
   "outputs": [],
   "source": [
    "X_train, X_test, y_train, y_test = train_test_split(X_train, y_train, test_size=0.2, random_state=42)"
   ]
  },
  {
   "cell_type": "code",
   "execution_count": null,
   "metadata": {
    "tags": []
   },
   "outputs": [],
   "source": [
    "print(X_train.shape)\n",
    "print(X_test.shape)\n",
    "print(y_train.shape)\n",
    "print(y_test.shape)"
   ]
  },
  {
   "cell_type": "code",
   "execution_count": null,
   "metadata": {},
   "outputs": [],
   "source": [
    "def loss_mse_warmup(y_true, y_pred):\n",
    "    \"\"\"\n",
    "    Calculate the Mean Squared Error between y_true and y_pred,\n",
    "    but ignore the beginning \"warmup\" part of the sequences.\n",
    "    \n",
    "    y_true is the desired output.\n",
    "    y_pred is the model's output.\n",
    "    \"\"\"\n",
    "    \n",
    "    print(y_true, y_pred)\n",
    "    \n",
    "    # The shape of both input tensors are:\n",
    "    # [batch_size, sequence_length, num_y_signals].\n",
    "\n",
    "    # Ignore the \"warmup\" parts of the sequences\n",
    "    # by taking slices of the tensors.\n",
    "    \n",
    "    y_true_slice = y_true[:, warmup_steps:, :]\n",
    "    y_pred_slice = y_pred[:, warmup_steps:]\n",
    "    # These sliced tensors both have this shape:\n",
    "    # [batch_size, sequence_length - warmup_steps, num_y_signals]\n",
    "    # Calculat the Mean Squared Error and use it as loss.\n",
    "    mse = mean(square(y_true_slice - y_pred_slice))\n",
    "    \n",
    "    return mse"
   ]
  },
  {
   "cell_type": "code",
   "execution_count": null,
   "metadata": {
    "tags": []
   },
   "outputs": [],
   "source": [
    "model = Sequential()\n",
    "\n",
    "model.add(GRU(units=512,input_shape=(None, 1)))\n",
    "init = RandomUniform(minval=-0.05, maxval=0.05)\n",
    "\n",
    "model.add(Dense(sequence_length, activation='linear', kernel_initializer=init))\n",
    "\n",
    "# opt = Adam(lr=0.001, decay=1e-6)\n",
    "\n",
    "NAME = f\"PRED-{int(time.time())}-OUTPUT_LEN={OUTPUT_LEN}-SEQ_LEN={SEQ_LEN}\"  \n",
    "tensorboard = TensorBoard(log_dir=\"logs/{}\".format(NAME, update_freq=25))\n",
    "reduce_lr = ReduceLROnPlateau(monitor='loss', factor=0.2,\n",
    "                              patience=3, min_lr=0.0001)\n",
    "\n",
    "\n",
    "def scheduler(epoch, lr):\n",
    "    if epoch < 5:\n",
    "        return lr\n",
    "    return lr / (epoch*3)  \n",
    "\n",
    "lr_scheduler_cb=LearningRateScheduler(schedule=scheduler)\n",
    "\n",
    "optimizer = RMSprop(lr=1e-3)\n",
    "model.compile(loss=\"mse\", optimizer=optimizer)\n",
    "\n",
    "print(model.summary())"
   ]
  },
  {
   "cell_type": "code",
   "execution_count": null,
   "metadata": {
    "tags": []
   },
   "outputs": [],
   "source": [
    "\n",
    "model.fit(X_train,y_train,epochs=EPOCHS,batch_size=256,validation_data=(X_test, y_test), callbacks=[tensorboard])\n",
    "\n",
    "model_file=f\"models/{NAME}_model.h5\"\n",
    "\n",
    "model.save(model_file)\n",
    "\n",
    "score=model.evaluate(X_test, y_test, verbose=1) "
   ]
  },
  {
   "cell_type": "code",
   "execution_count": null,
   "metadata": {
    "tags": []
   },
   "outputs": [],
   "source": [
    "print(NAME)"
   ]
  },
  {
   "cell_type": "code",
   "execution_count": null,
   "metadata": {},
   "outputs": [],
   "source": [
    "chain_predict = np.array([training_set_scaled[:SEQ_LEN]])\n",
    "pd.DataFrame(data=chain_predict[0]).plot(figsize=(20, 15), )"
   ]
  },
  {
   "cell_type": "code",
   "execution_count": null,
   "metadata": {
    "tags": []
   },
   "outputs": [],
   "source": [
    "output=[]\n",
    "\n",
    "for i in range(SEQ_LEN,5000):\n",
    "    if i%100==0 or i==SEQ_LEN:\n",
    "        print(i/5000*100)\n",
    "    pred_val=model.predict(chain_predict)\n",
    "    output.append(pred_val)\n",
    "    concatenated=np.concatenate((np.array([x[0] for x in chain_predict[0][:SEQ_LEN-OUTPUT_LEN]]), pred_val[0]))\n",
    "    chain_predict=np.array([concatenated.reshape(-1,1)])"
   ]
  },
  {
   "cell_type": "code",
   "execution_count": null,
   "metadata": {
    "tags": []
   },
   "outputs": [],
   "source": [
    "print(model.predict(chain_predict))\n",
    "print()\n",
    "print(np.array([x[0] for x in output]).flatten())\n",
    "output=np.array([x[0] for x in output]).flatten()"
   ]
  },
  {
   "cell_type": "code",
   "execution_count": null,
   "metadata": {},
   "outputs": [],
   "source": [
    "npoutput=sc.inverse_transform(np.array(output).reshape(-1,1))\n",
    "npoutput=np.array(output).reshape(1,-1)[0]\n",
    "\n",
    "\n",
    "pd.DataFrame(data=npoutput).plot(figsize=(30, 17))"
   ]
  },
  {
   "cell_type": "code",
   "execution_count": null,
   "metadata": {
    "tags": []
   },
   "outputs": [],
   "source": [
    "print(npoutput)"
   ]
  },
  {
   "cell_type": "code",
   "execution_count": null,
   "metadata": {},
   "outputs": [],
   "source": [
    "pd.DataFrame(data=npoutput[:100]).plot(figsize=(30, 17))"
   ]
  },
  {
   "cell_type": "code",
   "execution_count": null,
   "metadata": {},
   "outputs": [],
   "source": [
    "ytst=model.predict(np.array([X_test[0]]))"
   ]
  },
  {
   "cell_type": "code",
   "execution_count": null,
   "metadata": {
    "tags": []
   },
   "outputs": [],
   "source": [
    "y_tst_np=np.array(y_test[0])\n",
    "xtest_np=np.array([x[0] for x in X_test[0]])\n",
    "print(xtest_np)\n",
    "cont=np.concatenate((xtest_np,y_tst_np ))\n",
    "print(cont.shape)"
   ]
  },
  {
   "cell_type": "code",
   "execution_count": null,
   "metadata": {},
   "outputs": [],
   "source": [
    "pd.DataFrame(data=cont).plot(figsize=(30, 17))"
   ]
  },
  {
   "cell_type": "code",
   "execution_count": null,
   "metadata": {},
   "outputs": [],
   "source": [
    "# X_train, X_test, y_train, y_test\n",
    "\n"
   ]
  }
 ],
 "metadata": {
  "language_info": {
   "codemirror_mode": {
    "name": "ipython",
    "version": 3
   },
   "file_extension": ".py",
   "mimetype": "text/x-python",
   "name": "python",
   "nbconvert_exporter": "python",
   "pygments_lexer": "ipython3",
   "version": "3.7.7-final"
  },
  "orig_nbformat": 2,
  "kernelspec": {
   "name": "python37764bitvenvvenvc1eab81bed7f496384199fc93032dffe",
   "display_name": "Python 3.7.7 64-bit ('venv': venv)"
  }
 },
 "nbformat": 4,
 "nbformat_minor": 2
}