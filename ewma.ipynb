{
 "metadata": {
  "language_info": {
   "codemirror_mode": {
    "name": "ipython",
    "version": 3
   },
   "file_extension": ".py",
   "mimetype": "text/x-python",
   "name": "python",
   "nbconvert_exporter": "python",
   "pygments_lexer": "ipython3",
   "version": 3
  },
  "orig_nbformat": 2,
  "kernelspec": {
   "name": "python_defaultSpec_1595767965604",
   "display_name": "Python 3.7.7 64-bit ('venv': venv)"
  }
 },
 "nbformat": 4,
 "nbformat_minor": 2,
 "cells": [
  {
   "cell_type": "code",
   "execution_count": null,
   "metadata": {
    "tags": []
   },
   "outputs": [],
   "source": [
    "%matplotlib inline\n",
    "import os\n",
    "os.environ[\"KERAS_BACKEND\"] = \"plaidml.keras.backend\"\n",
    "import pandas as pd\n",
    "import numpy as np\n",
    "import tensorflow.keras as keras\n",
    "import tensorflow as tf\n",
    "import matplotlib.pyplot as plt\n",
    "from sklearn.preprocessing import MinMaxScaler\n",
    "from tensorflow.keras.preprocessing.sequence import TimeseriesGenerator\n",
    "from tensorflow.keras.backend import square, mean\n",
    "\n",
    "look_back = 64\n",
    "num_epochs = 7\n",
    "seq_len = 7\n",
    "batch_size=256\n",
    "loss=\"mse\"\n",
    "ewm=8"
   ]
  },
  {
   "cell_type": "code",
   "execution_count": null,
   "metadata": {
    "tags": []
   },
   "outputs": [],
   "source": [
    "# def getDataset():\n",
    "#     url = \"./datasets/DAT_ASCII_EURUSD_M1_2018.csv\"\n",
    "#     df = pd.read_csv(url, names=list([\"date\",\"open\", \"high\", \"low\", \"close\", \"volume\"]), header=None, sep=\";\")\n",
    "#     df.drop(columns=['open', 'high', 'low', 'volume'], inplace=True)\n",
    "#     df['date'] = pd.to_datetime(df['date'], infer_datetime_format=True)\n",
    "#     df.set_axis(df['date'], inplace=True)\n",
    "#     df.drop(columns=[\"date\"], inplace=True)\n",
    "#     df[\"Close\"]= df[\"close\"] # compatibility\n",
    "#     df.drop(columns=['close'], inplace=True)\n",
    "#     return df"
   ]
  },
  {
   "cell_type": "code",
   "execution_count": null,
   "metadata": {
    "tags": []
   },
   "outputs": [],
   "source": [
    "def getDataset():\n",
    "    url = \"./datasets/eurusd-m15-2018/EURUSD.csv\"\n",
    "    df = pd.read_csv(url)\n",
    "    df.drop(\"Volume\", 1, inplace=True)\n",
    "    df[\"Date\"] = df[\"Date\"].astype(str) + \" \" + df[\"Timestamp\"]\n",
    "    df['Date'] = pd.to_datetime(df['Date'])\n",
    "    df.set_index(\"Date\", inplace=True)\n",
    "    # df.drop(\"Date\", 1, inplace=True)\n",
    "    df.drop(\"Timestamp\", 1, inplace=True)\n",
    "    df.drop(\"Open\", 1, inplace=True)\n",
    "    df.drop(\"High\", 1, inplace=True)\n",
    "    df.drop(\"Low\", 1, inplace=True)\n",
    "\n",
    "    return df\n",
    "\n",
    "df = getDataset()\n",
    "df.head()"
   ]
  },
  {
   "cell_type": "code",
   "execution_count": null,
   "metadata": {},
   "outputs": [],
   "source": [
    "df[\"ewma_close\"]=df[\"Close\"].ewm(ewm).mean()\n",
    "df.plot(figsize=(30,15))\n"
   ]
  },
  {
   "cell_type": "code",
   "execution_count": null,
   "metadata": {},
   "outputs": [],
   "source": [
    "offset=500\n",
    "df[offset:offset+look_back].plot(figsize=(30,15))"
   ]
  },
  {
   "cell_type": "code",
   "execution_count": null,
   "metadata": {
    "tags": []
   },
   "outputs": [],
   "source": [
    "close_data = df['ewma_close'].values\n",
    "close_data = close_data.reshape((-1,1))\n",
    "\n",
    "split_percent = 0.80\n",
    "split = int(split_percent*len(close_data))\n",
    "\n",
    "close_train = close_data[:split]\n",
    "close_test = close_data[split:]\n",
    "\n",
    "date_train = df.index[:split]\n",
    "date_test = df.index[split:]\n",
    "\n",
    "print(len(close_train))\n",
    "print(len(close_test))"
   ]
  },
  {
   "cell_type": "code",
   "execution_count": null,
   "metadata": {
    "tags": []
   },
   "outputs": [],
   "source": [
    "x_scaler = MinMaxScaler()\n",
    "y_scaler = MinMaxScaler()\n",
    "\n",
    "def getY(data):\n",
    "    X_train = []\n",
    "    y_train = []\n",
    "    for i in range(look_back, len(data)-seq_len):\n",
    "        X_train.append(data[i-look_back:i])\n",
    "        y_train.append(data[i:i+seq_len])\n",
    "    X_train, y_train = np.array(X_train), np.array(y_train)\n",
    "\n",
    "    return X_train, y_train\n",
    "\n",
    "x_train,y_train=getY(close_train)\n",
    "x_test, y_test=getY(close_test)\n",
    "\n",
    "print(x_train.shape)\n",
    "print(y_train.shape)"
   ]
  },
  {
   "cell_type": "code",
   "execution_count": null,
   "metadata": {
    "tags": []
   },
   "outputs": [],
   "source": [
    "\n",
    "x_train_reshaped = x_train.reshape(-1,1)\n",
    "x_train_scaled = x_scaler.fit_transform(x_train_reshaped).reshape(-1, look_back, 1)\n",
    "x_test_reshaped=x_test.reshape(-1,1)\n",
    "x_test_scaled = x_scaler.transform(x_test_reshaped).reshape(-1, look_back, 1)\n",
    "\n",
    "y_train_reshaped = y_train.reshape(-1,1)\n",
    "y_test_reshaped = y_test.reshape(-1,1)\n",
    "y_train_scaled = y_scaler.fit_transform(y_train_reshaped).reshape(-1, seq_len, 1)\n",
    "y_test_scaled = y_scaler.transform(y_test_reshaped).reshape(-1, seq_len, 1)\n",
    "\n",
    "print(\"Min:\", np.min(x_train_scaled))\n",
    "print(\"Max:\", np.max(x_train_scaled))\n",
    "\n",
    "validation_data = (x_test_scaled, y_test_scaled)\n",
    "\n",
    "print(x_train_scaled.shape)               \n",
    "print(y_train_scaled.shape)"
   ]
  },
  {
   "cell_type": "code",
   "execution_count": null,
   "metadata": {
    "tags": []
   },
   "outputs": [],
   "source": [
    "from tensorflow.keras.models import Sequential\n",
    "from tensorflow.keras.layers import LSTM, Dense, Dropout, BatchNormalization, GRU, Bidirectional\n",
    "from tensorflow.keras.optimizers import Adam, RMSprop\n",
    "from tensorflow.keras.callbacks import TensorBoard, ReduceLROnPlateau\n",
    "\n",
    "reduce_lr = ReduceLROnPlateau(monitor='loss', factor=0.2, patience=2, min_lr=1e-7)\n",
    "\n",
    "model = Sequential()\n",
    "\n",
    "units=128\n",
    "\n",
    "# model.add(Bidirectional(GRU(units=64, return_sequences=True),input_shape=(x_train_scaled.shape[1], 1)))\n",
    "model.add(GRU(units=units,input_shape=(x_train_scaled.shape[1], 1), return_sequences=True))\n",
    "# model.add(BatchNormalization())\n",
    "# model.add(Dropout(0.15))\n",
    "\n",
    "model.add(GRU(units=units))\n",
    "# model.add(BatchNormalization())\n",
    "# model.add(Dropout(0.15))\n",
    "\n",
    "# model.add(GRU(units=16))\n",
    "# model.add(BatchNormalization())\n",
    "# model.add(Dropout(0.15))\n",
    "\n",
    "# model.add(Dense(units=seq_len+10, activation=\"relu\"))\n",
    "# model.add(Dropout(0.15))\n",
    "model.add(Dense(units=seq_len, activation=\"linear\"))\n",
    "\n",
    "optimizer = Adam(lr=1e-3)\n",
    "model.compile(optimizer=optimizer, loss=loss)"
   ]
  },
  {
   "cell_type": "code",
   "execution_count": null,
   "metadata": {
    "tags": []
   },
   "outputs": [],
   "source": [
    "print(model.summary())"
   ]
  },
  {
   "cell_type": "code",
   "execution_count": null,
   "metadata": {
    "tags": []
   },
   "outputs": [],
   "source": [
    "history=model.fit(x_train_scaled, y_train_scaled, epochs=num_epochs, validation_data=(x_test_scaled, y_test_scaled), batch_size=batch_size, shuffle=True, verbose=1, callbacks=[reduce_lr])"
   ]
  },
  {
   "cell_type": "code",
   "execution_count": null,
   "metadata": {},
   "outputs": [],
   "source": [
    "def plotHistory(history):\n",
    "    fig, ax = plt.subplots(figsize=(30,15))\n",
    "    ax.plot(history.history['loss'], label='loss (training data)')\n",
    "    ax.plot(history.history['val_loss'], label='loss (validation data)')\n",
    "    plt.ylabel('Loss value')\n",
    "    plt.xlabel('No. epoch')\n",
    "    ax.legend(loc=\"upper left\")\n",
    "    plt.title(f\"loss = {loss}\")\n",
    "    plt.show()"
   ]
  },
  {
   "cell_type": "code",
   "execution_count": null,
   "metadata": {},
   "outputs": [],
   "source": [
    "plotHistory(history)"
   ]
  },
  {
   "cell_type": "code",
   "execution_count": null,
   "metadata": {
    "tags": []
   },
   "outputs": [],
   "source": [
    "def predictAndPlot(position=0, test=False, predictionPeriods=3):\n",
    "    if test:\n",
    "        x = x_test_scaled\n",
    "    else:\n",
    "        x = x_train_scaled\n",
    "\n",
    "    prediction_list = np.array([x[position]])\n",
    "    output=[]\n",
    "\n",
    "    for i in range(predictionPeriods):\n",
    "        y = model.predict(prediction_list).reshape(1,-1)[0]\n",
    "        output.append(y)\n",
    "\n",
    "        tmp = np.append(prediction_list[0].reshape(1,-1)[0],y)[-look_back:]\n",
    "        predition_list = tmp.reshape(1, look_back, 1)\n",
    "\n",
    "    pltx=x[position]\n",
    "    pltx_unscaled = x_scaler.inverse_transform(pltx).reshape(1,-1)[0]\n",
    "    \n",
    "    plty=y_scaler.inverse_transform(np.array(output)).reshape(1,-1)[0]\n",
    "    \n",
    "    next_pltx = x_scaler.inverse_transform(x[position+len(pltx)]).reshape(1,-1)[0]\n",
    "\n",
    "    fig, ax = plt.subplots(figsize=(30,15))\n",
    "    ax.plot(pltx_unscaled, label='Base', color='orange')\n",
    "    ax.plot([i for i in range(len(pltx), len(plty)+len(pltx))],plty, label='Predicted', color = 'blue')\n",
    "    ax.plot([i for i in range(len(pltx), 2*len(pltx))], next_pltx, label='Next base', color = 'green')\n",
    "#     ax.plot([i for i in range(0, 2*len(pltx))], df[\"Close\"][position:][:2*len(pltx)],\"g^\", label='Original data', color = 'green')\n",
    "    plt.xlabel('krok czasu')\n",
    "    plt.ylabel('Stosunek euro/usd')\n",
    "    # plt.savefig(f\"pngs/cf{}\")\n",
    "    ax.legend()\n",
    "    plt.show() "
   ]
  },
  {
   "cell_type": "code",
   "execution_count": null,
   "metadata": {
    "tags": []
   },
   "outputs": [],
   "source": [
    "predictAndPlot(8000, True, 10)"
   ]
  },
  {
   "cell_type": "code",
   "execution_count": null,
   "metadata": {},
   "outputs": [],
   "source": [
    "predictAndPlot(5000, False, 10)     "
   ]
  },
  {
   "cell_type": "code",
   "execution_count": null,
   "metadata": {},
   "outputs": [],
   "source": [
    "predictAndPlot(1000, True, 6)"
   ]
  },
  {
   "cell_type": "code",
   "execution_count": null,
   "metadata": {},
   "outputs": [],
   "source": [
    "predictAndPlot(1500, False, 10)"
   ]
  },
  {
   "cell_type": "code",
   "execution_count": null,
   "metadata": {},
   "outputs": [],
   "source": [
    "predictAndPlot(1500, True, 10)"
   ]
  },
  {
   "cell_type": "code",
   "execution_count": null,
   "metadata": {},
   "outputs": [],
   "source": [
    "predictAndPlot(1600, False, 10)"
   ]
  },
  {
   "cell_type": "code",
   "execution_count": null,
   "metadata": {},
   "outputs": [],
   "source": [
    "predictAndPlot(1700, False, 10)"
   ]
  },
  {
   "cell_type": "code",
   "execution_count": null,
   "metadata": {},
   "outputs": [],
   "source": [
    "predictAndPlot(1900, False, 10)"
   ]
  },
  {
   "cell_type": "code",
   "execution_count": null,
   "metadata": {},
   "outputs": [],
   "source": []
  }
 ]
}