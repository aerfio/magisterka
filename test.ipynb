{
 "cells": [
  {
   "cell_type": "code",
   "execution_count": 1,
   "metadata": {
    "tags": []
   },
   "outputs": [
    {
     "output_type": "stream",
     "name": "stdout",
     "text": "60\n61\n62\n63\n64\n"
    }
   ],
   "source": [
    "for i in range(60, 65):\n",
    "    print(i)"
   ]
  },
  {
   "cell_type": "code",
   "execution_count": 8,
   "metadata": {
    "tags": []
   },
   "outputs": [
    {
     "output_type": "stream",
     "name": "stdout",
     "text": "[1 2 3 4 5 1 2 3 4 5]\n"
    }
   ],
   "source": [
    "import numpy as np\n",
    "\n",
    "print(np.concatenate( (np.array([1,2,3,4,5]), np.array([1,2,3,4,5]))))"
   ]
  },
  {
   "cell_type": "code",
   "execution_count": 1,
   "metadata": {},
   "outputs": [
    {
     "output_type": "execute_result",
     "data": {
      "text/plain": "2"
     },
     "metadata": {},
     "execution_count": 1
    }
   ],
   "source": [
    "xd= 2 if 2>1 else 1\n",
    "xd"
   ]
  },
  {
   "cell_type": "code",
   "execution_count": 1,
   "metadata": {},
   "outputs": [
    {
     "output_type": "execute_result",
     "data": {
      "text/plain": "                        open     high      low    close\ndate                                                   \n2018-01-01 17:00:00  1.20037  1.20100  1.20037  1.20100\n2018-01-01 17:01:00  1.20083  1.20095  1.20017  1.20030\n2018-01-01 17:02:00  1.20035  1.20043  1.20035  1.20043\n2018-01-01 17:03:00  1.20041  1.20050  1.20031  1.20046\n2018-01-01 17:04:00  1.20049  1.20049  1.20046  1.20048",
      "text/html": "<div>\n<style scoped>\n    .dataframe tbody tr th:only-of-type {\n        vertical-align: middle;\n    }\n\n    .dataframe tbody tr th {\n        vertical-align: top;\n    }\n\n    .dataframe thead th {\n        text-align: right;\n    }\n</style>\n<table border=\"1\" class=\"dataframe\">\n  <thead>\n    <tr style=\"text-align: right;\">\n      <th></th>\n      <th>open</th>\n      <th>high</th>\n      <th>low</th>\n      <th>close</th>\n    </tr>\n    <tr>\n      <th>date</th>\n      <th></th>\n      <th></th>\n      <th></th>\n      <th></th>\n    </tr>\n  </thead>\n  <tbody>\n    <tr>\n      <th>2018-01-01 17:00:00</th>\n      <td>1.20037</td>\n      <td>1.20100</td>\n      <td>1.20037</td>\n      <td>1.20100</td>\n    </tr>\n    <tr>\n      <th>2018-01-01 17:01:00</th>\n      <td>1.20083</td>\n      <td>1.20095</td>\n      <td>1.20017</td>\n      <td>1.20030</td>\n    </tr>\n    <tr>\n      <th>2018-01-01 17:02:00</th>\n      <td>1.20035</td>\n      <td>1.20043</td>\n      <td>1.20035</td>\n      <td>1.20043</td>\n    </tr>\n    <tr>\n      <th>2018-01-01 17:03:00</th>\n      <td>1.20041</td>\n      <td>1.20050</td>\n      <td>1.20031</td>\n      <td>1.20046</td>\n    </tr>\n    <tr>\n      <th>2018-01-01 17:04:00</th>\n      <td>1.20049</td>\n      <td>1.20049</td>\n      <td>1.20046</td>\n      <td>1.20048</td>\n    </tr>\n  </tbody>\n</table>\n</div>"
     },
     "metadata": {},
     "execution_count": 1
    }
   ],
   "source": [
    "import pandas as pd\n",
    "\n",
    "url = \"./datasets/DAT_ASCII_EURUSD_M1_2018.csv\"\n",
    "df = pd.read_csv(url, names=list([\"date\",\"open\", \"high\", \"low\", \"close\", \"volume\"]), header=None, sep=\";\")\n",
    "df.drop(\"volume\", 1, inplace=True)\n",
    "df['date'] = pd.to_datetime(df['date'], infer_datetime_format=True)\n",
    "df.set_index('date', inplace=True)\n",
    "\n",
    "df.head()"
   ]
  },
  {
   "cell_type": "code",
   "execution_count": 3,
   "metadata": {},
   "outputs": [
    {
     "output_type": "execute_result",
     "data": {
      "text/plain": "                        open     high      low    close   future\ndate                                                            \n2018-12-31 16:48:00  1.14610  1.14615  1.14608  1.14609  1.14621\n2018-12-31 16:49:00  1.14608  1.14608  1.14603  1.14603  1.14630\n2018-12-31 16:50:00  1.14604  1.14609  1.14601  1.14608  1.14637\n2018-12-31 16:51:00  1.14610  1.14620  1.14609  1.14617  1.14642\n2018-12-31 16:52:00  1.14617  1.14621  1.14612  1.14619  1.14645\n2018-12-31 16:53:00  1.14617  1.14624  1.14614  1.14621  1.14672\n2018-12-31 16:54:00  1.14621  1.14632  1.14620  1.14630  1.14644\n2018-12-31 16:55:00  1.14631  1.14637  1.14626  1.14637      NaN\n2018-12-31 16:56:00  1.14637  1.14642  1.14624  1.14642      NaN\n2018-12-31 16:57:00  1.14642  1.14647  1.14640  1.14645      NaN\n2018-12-31 16:58:00  1.14645  1.14674  1.14639  1.14672      NaN\n2018-12-31 16:59:00  1.14671  1.14671  1.14635  1.14644      NaN",
      "text/html": "<div>\n<style scoped>\n    .dataframe tbody tr th:only-of-type {\n        vertical-align: middle;\n    }\n\n    .dataframe tbody tr th {\n        vertical-align: top;\n    }\n\n    .dataframe thead th {\n        text-align: right;\n    }\n</style>\n<table border=\"1\" class=\"dataframe\">\n  <thead>\n    <tr style=\"text-align: right;\">\n      <th></th>\n      <th>open</th>\n      <th>high</th>\n      <th>low</th>\n      <th>close</th>\n      <th>future</th>\n    </tr>\n    <tr>\n      <th>date</th>\n      <th></th>\n      <th></th>\n      <th></th>\n      <th></th>\n      <th></th>\n    </tr>\n  </thead>\n  <tbody>\n    <tr>\n      <th>2018-12-31 16:48:00</th>\n      <td>1.14610</td>\n      <td>1.14615</td>\n      <td>1.14608</td>\n      <td>1.14609</td>\n      <td>1.14621</td>\n    </tr>\n    <tr>\n      <th>2018-12-31 16:49:00</th>\n      <td>1.14608</td>\n      <td>1.14608</td>\n      <td>1.14603</td>\n      <td>1.14603</td>\n      <td>1.14630</td>\n    </tr>\n    <tr>\n      <th>2018-12-31 16:50:00</th>\n      <td>1.14604</td>\n      <td>1.14609</td>\n      <td>1.14601</td>\n      <td>1.14608</td>\n      <td>1.14637</td>\n    </tr>\n    <tr>\n      <th>2018-12-31 16:51:00</th>\n      <td>1.14610</td>\n      <td>1.14620</td>\n      <td>1.14609</td>\n      <td>1.14617</td>\n      <td>1.14642</td>\n    </tr>\n    <tr>\n      <th>2018-12-31 16:52:00</th>\n      <td>1.14617</td>\n      <td>1.14621</td>\n      <td>1.14612</td>\n      <td>1.14619</td>\n      <td>1.14645</td>\n    </tr>\n    <tr>\n      <th>2018-12-31 16:53:00</th>\n      <td>1.14617</td>\n      <td>1.14624</td>\n      <td>1.14614</td>\n      <td>1.14621</td>\n      <td>1.14672</td>\n    </tr>\n    <tr>\n      <th>2018-12-31 16:54:00</th>\n      <td>1.14621</td>\n      <td>1.14632</td>\n      <td>1.14620</td>\n      <td>1.14630</td>\n      <td>1.14644</td>\n    </tr>\n    <tr>\n      <th>2018-12-31 16:55:00</th>\n      <td>1.14631</td>\n      <td>1.14637</td>\n      <td>1.14626</td>\n      <td>1.14637</td>\n      <td>NaN</td>\n    </tr>\n    <tr>\n      <th>2018-12-31 16:56:00</th>\n      <td>1.14637</td>\n      <td>1.14642</td>\n      <td>1.14624</td>\n      <td>1.14642</td>\n      <td>NaN</td>\n    </tr>\n    <tr>\n      <th>2018-12-31 16:57:00</th>\n      <td>1.14642</td>\n      <td>1.14647</td>\n      <td>1.14640</td>\n      <td>1.14645</td>\n      <td>NaN</td>\n    </tr>\n    <tr>\n      <th>2018-12-31 16:58:00</th>\n      <td>1.14645</td>\n      <td>1.14674</td>\n      <td>1.14639</td>\n      <td>1.14672</td>\n      <td>NaN</td>\n    </tr>\n    <tr>\n      <th>2018-12-31 16:59:00</th>\n      <td>1.14671</td>\n      <td>1.14671</td>\n      <td>1.14635</td>\n      <td>1.14644</td>\n      <td>NaN</td>\n    </tr>\n  </tbody>\n</table>\n</div>"
     },
     "metadata": {},
     "execution_count": 3
    }
   ],
   "source": [
    "df[\"future\"]=df[\"close\"].shift(-5)\n",
    "df.tail(12)"
   ]
  },
  {
   "cell_type": "code",
   "execution_count": null,
   "metadata": {},
   "outputs": [],
   "source": []
  }
 ],
 "metadata": {
  "language_info": {
   "codemirror_mode": {
    "name": "ipython",
    "version": 3
   },
   "file_extension": ".py",
   "mimetype": "text/x-python",
   "name": "python",
   "nbconvert_exporter": "python",
   "pygments_lexer": "ipython3",
   "version": "3.7.7-final"
  },
  "orig_nbformat": 2,
  "kernelspec": {
   "name": "python37764bitvenvvenv07056f12f87c4c6fa7d060979708382c",
   "display_name": "Python 3.7.7 64-bit ('venv': venv)"
  }
 },
 "nbformat": 4,
 "nbformat_minor": 2
}