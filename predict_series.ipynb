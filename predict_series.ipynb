{
 "cells": [
  {
   "cell_type": "code",
   "execution_count": 1,
   "metadata": {},
   "outputs": [],
   "source": [
    "from tensorflow.keras.models import load_model\n",
    "import pandas as pd\n",
    "import numpy as np\n",
    "from sklearn.preprocessing import MinMaxScaler\n",
    "\n",
    "SEQ_LEN=60\n",
    "# DO_PLOT=False\n",
    "DO_PLOT=True"
   ]
  },
  {
   "cell_type": "code",
   "execution_count": 2,
   "metadata": {},
   "outputs": [
    {
     "output_type": "execute_result",
     "data": {
      "text/plain": "                        open     high      low    close\ndate                                                   \n2017-01-02 02:00:00  1.05155  1.05197  1.05155  1.05190\n2017-01-02 02:01:00  1.05209  1.05209  1.05177  1.05179\n2017-01-02 02:02:00  1.05177  1.05198  1.05177  1.05178\n2017-01-02 02:03:00  1.05188  1.05200  1.05188  1.05200\n2017-01-02 02:04:00  1.05196  1.05204  1.05196  1.05203",
      "text/html": "<div>\n<style scoped>\n    .dataframe tbody tr th:only-of-type {\n        vertical-align: middle;\n    }\n\n    .dataframe tbody tr th {\n        vertical-align: top;\n    }\n\n    .dataframe thead th {\n        text-align: right;\n    }\n</style>\n<table border=\"1\" class=\"dataframe\">\n  <thead>\n    <tr style=\"text-align: right;\">\n      <th></th>\n      <th>open</th>\n      <th>high</th>\n      <th>low</th>\n      <th>close</th>\n    </tr>\n    <tr>\n      <th>date</th>\n      <th></th>\n      <th></th>\n      <th></th>\n      <th></th>\n    </tr>\n  </thead>\n  <tbody>\n    <tr>\n      <th>2017-01-02 02:00:00</th>\n      <td>1.05155</td>\n      <td>1.05197</td>\n      <td>1.05155</td>\n      <td>1.05190</td>\n    </tr>\n    <tr>\n      <th>2017-01-02 02:01:00</th>\n      <td>1.05209</td>\n      <td>1.05209</td>\n      <td>1.05177</td>\n      <td>1.05179</td>\n    </tr>\n    <tr>\n      <th>2017-01-02 02:02:00</th>\n      <td>1.05177</td>\n      <td>1.05198</td>\n      <td>1.05177</td>\n      <td>1.05178</td>\n    </tr>\n    <tr>\n      <th>2017-01-02 02:03:00</th>\n      <td>1.05188</td>\n      <td>1.05200</td>\n      <td>1.05188</td>\n      <td>1.05200</td>\n    </tr>\n    <tr>\n      <th>2017-01-02 02:04:00</th>\n      <td>1.05196</td>\n      <td>1.05204</td>\n      <td>1.05196</td>\n      <td>1.05203</td>\n    </tr>\n  </tbody>\n</table>\n</div>"
     },
     "metadata": {},
     "execution_count": 2
    }
   ],
   "source": [
    "model=load_model(\"./models/PRED-1592152010_model.h5\")\n",
    "\n",
    "# print(model)\n",
    "url = \"./datasets/DAT_ASCII_EURUSD_M1_2017.csv\"\n",
    "df = pd.read_csv(url, names=list([\"date\",\"open\", \"high\", \"low\", \"close\", \"volume\"]), header=None, sep=\";\")\n",
    "df.drop(\"volume\", 1, inplace=True)\n",
    "df['date'] = pd.to_datetime(df['date'], infer_datetime_format=True)\n",
    "df.set_index('date', inplace=True)\n",
    "\n",
    "df.head()"
   ]
  },
  {
   "cell_type": "code",
   "execution_count": null,
   "metadata": {},
   "outputs": [],
   "source": [
    " if DO_PLOT:\n",
    "     df.plot(subplots=True, layout=(2, 2), figsize=(40, 20), sharex=False)"
   ]
  },
  {
   "cell_type": "code",
   "execution_count": null,
   "metadata": {},
   "outputs": [],
   "source": [
    "data_set = df.iloc[:, 3].values #close\n",
    "print(data_set)"
   ]
  },
  {
   "cell_type": "code",
   "execution_count": null,
   "metadata": {},
   "outputs": [],
   "source": [
    "sc = MinMaxScaler(feature_range=(0,1))\n",
    "data_set_scaled = sc.fit_transform(data_set.reshape(-1,1))"
   ]
  },
  {
   "cell_type": "code",
   "execution_count": null,
   "metadata": {},
   "outputs": [],
   "source": [
    "print(data_set_scaled.reshape(1, -1)[0])"
   ]
  },
  {
   "cell_type": "code",
   "execution_count": null,
   "metadata": {},
   "outputs": [],
   "source": [
    "if DO_PLOT:\n",
    "    pd.DataFrame(data=data_set_scaled.reshape(1, -1)[0]).plot(figsize=(40, 20), )"
   ]
  },
  {
   "cell_type": "code",
   "execution_count": null,
   "metadata": {},
   "outputs": [],
   "source": [
    "to_predict=data_set_scaled[:60]\n",
    "\n",
    "chain_predict = np.array([to_predict])\n",
    "\n",
    "output=[]\n",
    "\n",
    "for i in range(SEQ_LEN,3500):\n",
    "    if i%300==0:\n",
    "        print(i)\n",
    "    pred_val=model.predict(chain_predict)\n",
    "    output.append(pred_val)\n",
    "\n",
    "    stitched=np.concatenate((np.array(chain_predict[0][1:]),np.array(pred_val)))\n",
    "    chain_predict=np.array([stitched])"
   ]
  },
  {
   "cell_type": "code",
   "execution_count": null,
   "metadata": {
    "tags": [
     "outputPrepend"
    ]
   },
   "outputs": [],
   "source": [
    "npoutput=np.array(output).reshape(1,-1)[0]\n",
    "npoutput=sc.inverse_transform(npoutput)\n",
    "\n",
    "pd.DataFrame(data=npoutput).plot(figsize=(30, 17), )"
   ]
  },
  {
   "cell_type": "code",
   "execution_count": null,
   "metadata": {},
   "outputs": [],
   "source": []
  }
 ],
 "metadata": {
  "language_info": {
   "codemirror_mode": {
    "name": "ipython",
    "version": 3
   },
   "file_extension": ".py",
   "mimetype": "text/x-python",
   "name": "python",
   "nbconvert_exporter": "python",
   "pygments_lexer": "ipython3",
   "version": "3.7.7-final"
  },
  "orig_nbformat": 2,
  "kernelspec": {
   "name": "python37764bitvenvvenvc1eab81bed7f496384199fc93032dffe",
   "display_name": "Python 3.7.7 64-bit ('venv': venv)"
  }
 },
 "nbformat": 4,
 "nbformat_minor": 2
}