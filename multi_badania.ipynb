{
 "metadata": {
  "language_info": {
   "codemirror_mode": {
    "name": "ipython",
    "version": 3
   },
   "file_extension": ".py",
   "mimetype": "text/x-python",
   "name": "python",
   "nbconvert_exporter": "python",
   "pygments_lexer": "ipython3",
   "version": "3.7.7-final"
  },
  "orig_nbformat": 2,
  "kernelspec": {
   "name": "python_defaultSpec_1599667392850",
   "display_name": "Python 3.7.7 64-bit ('venv': venv)"
  }
 },
 "nbformat": 4,
 "nbformat_minor": 2,
 "cells": [
  {
   "cell_type": "code",
   "execution_count": null,
   "metadata": {},
   "outputs": [],
   "source": [
    "%matplotlib inline\n",
    "import os\n",
    "os.environ[\"KERAS_BACKEND\"] = \"plaidml.keras.backend\"\n",
    "import datetime\n",
    "from datetime import timedelta\n",
    "import IPython\n",
    "import IPython.display\n",
    "import matplotlib as mpl\n",
    "import matplotlib.pyplot as plt\n",
    "import numpy as np\n",
    "import pandas as pd\n",
    "import seaborn as sns\n",
    "import tensorflow as tf\n",
    "\n",
    "mpl.rcParams['figure.figsize'] = (30, 15)\n",
    "# mpl.rcParams['axes.grid'] = False\n",
    "\n",
    "target=\"close\""
   ]
  },
  {
   "cell_type": "code",
   "execution_count": null,
   "metadata": {},
   "outputs": [],
   "source": [
    "def getDataset(full=False):\n",
    "    url = \"./datasets/DAT_ASCII_EURUSD_M1_2018.csv\"\n",
    "    df = pd.read_csv(url, names=list([\"date\",\"open\", \"high\", \"low\", \"close\", \"volume\"]), header=None, sep=\";\")\n",
    "    # df.drop(columns=['open', 'high', 'low'], inplace=True)\n",
    "    pdlen=len(df)\n",
    "    \n",
    "    df['date'] = pd.to_datetime(df['date'], infer_datetime_format=True)\n",
    "    # df.set_axis(df['date'], inplace=True)\n",
    "    # df.drop(columns=[\"volume\"], inplace=True)\n",
    "    df.drop(columns=[\"volume\", \"low\", \"open\", \"high\"], inplace=True)\n",
    "    # df[\"Close\"]= df[\"close\"] # compatibility\n",
    "    # df[\"Volume\"]= df[\"volume\"] # compatibility\n",
    "    # df.drop(columns=['close'], inplace=True)\n",
    "    # df[\"ewma_close\"]=df[\"close\"].ewm(4).mean()\n",
    "    if full is False:\n",
    "        df=df[58::60]\n",
    "        \n",
    "    return df"
   ]
  },
  {
   "cell_type": "code",
   "execution_count": null,
   "metadata": {
    "tags": []
   },
   "outputs": [],
   "source": [
    "df = getDataset(full=False)\n",
    "\n",
    "# df.set_axis(df['date'])[target].plot(figsize=(15,8))\n",
    "# plt.legend([\"close\"])\n",
    "# plt.grid(True)\n",
    "# plt.title(\"Wykres przedstawiający wartość stosunku ceny euro do dolara amerykańskiego w roku 2018\")\n",
    "# plt.xlabel(\"Data\")\n",
    "# plt.ylabel(\"Wartość stosunku euro do dolara\")"
   ]
  },
  {
   "cell_type": "code",
   "execution_count": null,
   "metadata": {
    "tags": []
   },
   "outputs": [],
   "source": [
    "date_time = pd.to_datetime(df.pop('date'))\n",
    "print(date_time)"
   ]
  },
  {
   "cell_type": "code",
   "execution_count": null,
   "metadata": {
    "tags": []
   },
   "outputs": [],
   "source": [
    "# adjusted_date_time = []\n",
    "# print([date_time.values[0]+timedelta(minutes=(i-1)*1) for i in range(len(date_time.values))])\n",
    "\n",
    "\n",
    "date_time_clone = date_time.copy()\n",
    "new_values=pd.date_range(date_time.values[0], periods=len(date_time), freq='1h')\n",
    "\n",
    "i=0\n",
    "for key in date_time_clone.copy().keys():\n",
    "    date_time_clone[key]=new_values[i]\n",
    "    i=i+1\n",
    "\n",
    "date_time=date_time_clone\n",
    "print(date_time)"
   ]
  },
  {
   "cell_type": "code",
   "execution_count": null,
   "metadata": {},
   "outputs": [],
   "source": [
    "timestamp_s = date_time.map(datetime.datetime.timestamp)\n",
    "day = 24*60*60\n",
    "year = (365.2425)*day\n",
    "\n",
    "df['Day sin'] = np.sin(timestamp_s * (2 * np.pi / day))\n",
    "df['Day cos'] = np.cos(timestamp_s * (2 * np.pi / day))\n",
    "df['Year sin'] = np.sin(timestamp_s * (2 * np.pi / year))\n",
    "df['Year cos'] = np.cos(timestamp_s * (2 * np.pi / year))\n",
    "\n",
    "timestamp_s[:5]"
   ]
  },
  {
   "cell_type": "code",
   "execution_count": null,
   "metadata": {},
   "outputs": [],
   "source": [
    "column_indices = {name: i for i, name in enumerate(df.columns)}\n",
    "\n",
    "n = len(df)\n",
    "train_df = df[0:int(n*0.7)]\n",
    "val_df = df[int(n*0.7):int(n*0.9)]\n",
    "test_df = df[int(n*0.9):]\n",
    "\n",
    "num_features = df.shape[1]"
   ]
  },
  {
   "cell_type": "code",
   "execution_count": null,
   "metadata": {},
   "outputs": [],
   "source": [
    "train_mean = train_df.mean()\n",
    "train_std = train_df.std()\n",
    "\n",
    "train_df = (train_df - train_mean) / train_std\n",
    "val_df = (val_df - train_mean) / train_std\n",
    "test_df = (test_df - train_mean) / train_std"
   ]
  },
  {
   "cell_type": "code",
   "execution_count": null,
   "metadata": {},
   "outputs": [],
   "source": [
    "class WindowGenerator():\n",
    "  def __init__(self, input_width, label_width, shift,\n",
    "               train_df=train_df, val_df=val_df, test_df=test_df,\n",
    "               label_columns=None):\n",
    "    # Store the raw data.\n",
    "    self.train_df = train_df\n",
    "    self.val_df = val_df\n",
    "    self.test_df = test_df\n",
    "\n",
    "    # Work out the label column indices.\n",
    "    self.label_columns = label_columns\n",
    "    if label_columns is not None:\n",
    "      self.label_columns_indices = {name: i for i, name in\n",
    "                                    enumerate(label_columns)}\n",
    "    self.column_indices = {name: i for i, name in\n",
    "                           enumerate(train_df.columns)}\n",
    "\n",
    "    # Work out the window parameters.\n",
    "    self.input_width = input_width\n",
    "    self.label_width = label_width\n",
    "    self.shift = shift\n",
    "\n",
    "    self.total_window_size = input_width + shift\n",
    "\n",
    "    self.input_slice = slice(0, input_width)\n",
    "    self.input_indices = np.arange(self.total_window_size)[self.input_slice]\n",
    "\n",
    "    self.label_start = self.total_window_size - self.label_width\n",
    "    self.labels_slice = slice(self.label_start, None)\n",
    "    self.label_indices = np.arange(self.total_window_size)[self.labels_slice]\n",
    "\n",
    "  def __repr__(self):\n",
    "    return '\\n'.join([\n",
    "        f'Total window size: {self.total_window_size}',\n",
    "        f'Input indices: {self.input_indices}',\n",
    "        f'Label indices: {self.label_indices}',\n",
    "        f'Label column name(s): {self.label_columns}'])"
   ]
  },
  {
   "cell_type": "code",
   "execution_count": null,
   "metadata": {},
   "outputs": [],
   "source": [
    "def plotLossHistory(history, figsize=(30,15)):\n",
    "    fig, ax = plt.subplots(figsize=figsize)\n",
    "    ax.plot(history.history['loss'], label='Wartość funkcji kosztu dla zbioru treningowego')\n",
    "    ax.plot(history.history['val_loss'], label='Wartość funkcji kosztu dla zbioru walidacyjnego')\n",
    "    plt.ylabel('Wartość funkcji kosztu')\n",
    "    plt.xlabel('Numer epoki')\n",
    "    ax.legend(loc=\"upper left\")\n",
    "    plt.title(\"Wartość funkcji kosztu na przestrzeni epok\")\n",
    "    plt.show()"
   ]
  },
  {
   "cell_type": "code",
   "execution_count": null,
   "metadata": {},
   "outputs": [],
   "source": [
    "def plotMAEHistory(history):\n",
    "    fig, ax = plt.subplots(figsize=(30,15))\n",
    "    ax.plot(history.history['mean_absolute_error'], label='MAE podczas treningu')\n",
    "    ax.plot(history.history['val_mean_absolute_error'], label='MAE na zbiorze walidacyjnym')\n",
    "    plt.ylabel('MAE value')\n",
    "    plt.xlabel('Numer epoki')\n",
    "    ax.legend(loc=\"upper left\")\n",
    "    plt.show()"
   ]
  },
  {
   "cell_type": "code",
   "execution_count": null,
   "metadata": {},
   "outputs": [],
   "source": [
    "def split_window(self, features):\n",
    "  inputs = features[:, self.input_slice, :]\n",
    "  labels = features[:, self.labels_slice, :]\n",
    "  if self.label_columns is not None:\n",
    "    labels = tf.stack(\n",
    "        [labels[:, :, self.column_indices[name]] for name in self.label_columns],\n",
    "        axis=-1)\n",
    "\n",
    "  # Slicing doesn't preserve static shape information, so set the shapes\n",
    "  # manually. This way the `tf.data.Datasets` are easier to inspect.\n",
    "  inputs.set_shape([None, self.input_width, None])\n",
    "  labels.set_shape([None, self.label_width, None])\n",
    "\n",
    "  return inputs, labels\n",
    "\n",
    "WindowGenerator.split_window = split_window"
   ]
  },
  {
   "cell_type": "code",
   "execution_count": null,
   "metadata": {},
   "outputs": [],
   "source": [
    "def plot(self, model=None, plot_col=target, max_subplots=3, title=None):\n",
    "  inputs, labels = self.example\n",
    "  # plt.figure(figsize=(15, 15))\n",
    "  plot_col_index = self.column_indices[plot_col]\n",
    "  max_n = min(max_subplots, len(inputs))\n",
    "  for n in range(max_n):\n",
    "    plt.subplot(3, 1, n+1)\n",
    "\n",
    "    if title is not None and n==0:\n",
    "      plt.title(title)\n",
    "\n",
    "    plt.xticks(np.arange(0, 48, step=1))\n",
    "    # plt.xticks(np.arange(0, len(self.input_indices)+1, step=1))\n",
    "    \n",
    "    plt.ylabel(f'{plot_col} [znormalizowana wartość]')\n",
    "    plt.plot(self.input_indices, inputs[n, :, plot_col_index],\n",
    "             label='Wejście', marker='.', zorder=-10)\n",
    "\n",
    "    if self.label_columns:\n",
    "      label_col_index = self.label_columns_indices.get(plot_col, None)\n",
    "    else:\n",
    "      label_col_index = plot_col_index\n",
    "\n",
    "    if label_col_index is None:\n",
    "      continue\n",
    "\n",
    "    plt.scatter(self.label_indices, labels[n, :, label_col_index],\n",
    "                edgecolors='k', label='Prawdziwe wartości', c='#2ca02c', s=64)\n",
    "    if model is not None:\n",
    "      predictions = model(inputs)\n",
    "      # print(predictions)\n",
    "      plt.scatter(self.label_indices, predictions[n, :, label_col_index],\n",
    "                  marker='X', edgecolors='k', label='Predykcje',\n",
    "                  c='#ff7f0e', s=64)\n",
    "\n",
    "    if n == 0:\n",
    "      plt.legend()\n",
    "\n",
    "  plt.xlabel('Czas od pierwszej próbki [h]')\n",
    "\n",
    "WindowGenerator.plot = plot"
   ]
  },
  {
   "cell_type": "code",
   "execution_count": null,
   "metadata": {
    "tags": []
   },
   "outputs": [],
   "source": [
    "# w2.plot()"
   ]
  },
  {
   "cell_type": "code",
   "execution_count": null,
   "metadata": {},
   "outputs": [],
   "source": [
    "def make_dataset(self, data):\n",
    "  data = np.array(data, dtype=np.float32)\n",
    "  ds = tf.keras.preprocessing.timeseries_dataset_from_array(\n",
    "      data=data,\n",
    "      targets=None,\n",
    "      sequence_length=self.total_window_size,\n",
    "      sequence_stride=1,\n",
    "      shuffle=True,\n",
    "      batch_size=32,)\n",
    "\n",
    "  ds = ds.map(self.split_window)\n",
    "\n",
    "  return ds\n",
    "\n",
    "WindowGenerator.make_dataset = make_dataset"
   ]
  },
  {
   "cell_type": "code",
   "execution_count": null,
   "metadata": {},
   "outputs": [],
   "source": [
    "@property\n",
    "def train(self):\n",
    "  return self.make_dataset(self.train_df)\n",
    "\n",
    "@property\n",
    "def val(self):\n",
    "  return self.make_dataset(self.val_df)\n",
    "\n",
    "@property\n",
    "def test(self):\n",
    "  return self.make_dataset(self.test_df)\n",
    "\n",
    "@property\n",
    "def example(self):\n",
    "  \"\"\"Get and cache an example batch of `inputs, labels` for plotting.\"\"\"\n",
    "  result = getattr(self, '_example', None)\n",
    "  if result is None:\n",
    "    # No example batch was found, so get one from the `.train` dataset\n",
    "    result = next(iter(self.train))\n",
    "    # And cache it for next time\n",
    "    self._example = result\n",
    "  return result\n",
    "\n",
    "WindowGenerator.train = train\n",
    "WindowGenerator.val = val\n",
    "WindowGenerator.test = test\n",
    "WindowGenerator.example = example"
   ]
  },
  {
   "cell_type": "code",
   "execution_count": null,
   "metadata": {},
   "outputs": [],
   "source": [
    "single_step_window = WindowGenerator(\n",
    "    input_width=1, label_width=1, shift=1,\n",
    "    label_columns=[target])\n",
    "single_step_window"
   ]
  },
  {
   "cell_type": "code",
   "execution_count": null,
   "metadata": {},
   "outputs": [],
   "source": [
    "class ResidualWrapper(tf.keras.Model):\n",
    "  def __init__(self, model):\n",
    "    super().__init__()\n",
    "    self.model = model\n",
    "\n",
    "  def call(self, inputs, *args, **kwargs):\n",
    "    delta = self.model(inputs, *args, **kwargs)\n",
    "\n",
    "    # The prediction for each timestep is the input\n",
    "    # from the previous time step plus the delta\n",
    "    # calculated by the model.\n",
    "    return inputs + delta"
   ]
  },
  {
   "cell_type": "code",
   "execution_count": null,
   "metadata": {},
   "outputs": [],
   "source": [
    "class Baseline(tf.keras.Model):\n",
    "  def __init__(self, label_index=None):\n",
    "    super().__init__()\n",
    "    self.label_index = label_index\n",
    "\n",
    "  def call(self, inputs):\n",
    "    if self.label_index is None:\n",
    "      return inputs\n",
    "    result = inputs[:, :, self.label_index]\n",
    "    return result[:, :, tf.newaxis]"
   ]
  },
  {
   "cell_type": "code",
   "execution_count": null,
   "metadata": {},
   "outputs": [],
   "source": [
    "wide_window = WindowGenerator(\n",
    "    input_width=24, label_width=24, shift=1,\n",
    "    label_columns=[target])\n",
    "\n",
    "wide_window"
   ]
  },
  {
   "cell_type": "code",
   "execution_count": null,
   "metadata": {
    "tags": []
   },
   "outputs": [],
   "source": [
    "# print('Input shape:', single_step_window.example[0].shape)\n",
    "# print('Output shape:', linear(single_step_window.example[0]).shape)"
   ]
  },
  {
   "cell_type": "code",
   "execution_count": null,
   "metadata": {},
   "outputs": [],
   "source": [
    "MAX_EPOCHS = 30\n",
    "\n",
    "def compile_and_fit(model, window, patience=5, max_epochs=MAX_EPOCHS):\n",
    "  early_stopping = tf.keras.callbacks.EarlyStopping(monitor='val_loss',\n",
    "                                                    patience=patience,\n",
    "                                                    mode='min')\n",
    "\n",
    "  model.compile(loss=tf.losses.MeanSquaredError(),\n",
    "                optimizer=tf.optimizers.Adam(),\n",
    "                metrics=[tf.metrics.MeanAbsoluteError()])\n",
    "\n",
    "  history = model.fit(window.train, epochs=max_epochs,\n",
    "                      validation_data=window.val,\n",
    "                      callbacks=[early_stopping])\n",
    "  return history"
   ]
  },
  {
   "cell_type": "code",
   "execution_count": null,
   "metadata": {},
   "outputs": [],
   "source": [
    "mpl.rcParams['figure.figsize'] = (20, 10)"
   ]
  },
  {
   "cell_type": "code",
   "execution_count": null,
   "metadata": {
    "tags": []
   },
   "outputs": [],
   "source": [
    "import time\n",
    "\n",
    "def exper(n=10):\n",
    "    start = time.time()\n",
    "\n",
    "    print(f\"n={n}\")\n",
    "\n",
    "    rnn_model = tf.keras.Sequential([\n",
    "        tf.keras.layers.LSTM(n, return_sequences=True),\n",
    "        tf.keras.layers.LSTM(n, return_sequences=True),\n",
    "        tf.keras.layers.LSTM(n, return_sequences=True),\n",
    "        tf.keras.layers.LSTM(n, return_sequences=True),\n",
    "        tf.keras.layers.Dense(1)\n",
    "    ])\n",
    "\n",
    "    history = compile_and_fit(rnn_model, wide_window, max_epochs=50, patience=50)\n",
    "\n",
    "    IPython.display.clear_output()\n",
    "\n",
    "    end = time.time()\n",
    "    print(\"validation\")\n",
    "    val_performance_single['RNN'] = rnn_model.evaluate(wide_window.val, verbose=1)\n",
    "    vali=val_performance_single['RNN']\n",
    "    print(\"test\")\n",
    "    performance_single['RNN'] = rnn_model.evaluate(wide_window.test, verbose=1)\n",
    "    testi=performance_single['RNN']\n",
    "\n",
    "    ret = f\"{n} & {end-start:0.3f} & {vali[0]:0.4f} & {vali[1]:0.4f} & {testi[0]:0.4f} & {testi[1]:0.4f} \\\\\\\\\"\n",
    "\n",
    "    return ret, rnn_model, history\n",
    "\n",
    "# ret, model, history = exper(n=240)\n",
    "# ret, model40, history = exper(n=40)\n",
    "\n",
    "# print(ret)\n",
    "# 20,30,40,50,60,80,120,240\n",
    "#5,10,20,30,40,50,60,80,120 \n",
    "# xd = [exper(i)[0] for i in np.array([5,10,20,30,40,50,60,80,120,240])]\n",
    "# print(xd)\n",
    "\n",
    "\n",
    "# wide_window.plot(model)"
   ]
  },
  {
   "cell_type": "code",
   "execution_count": null,
   "metadata": {},
   "outputs": [],
   "source": [
    "def plotMany(self, model=None, plot_col=target, max_subplots=3, title=None, additionalModels=None):\n",
    "  inputs, labels = self.example\n",
    "  # plt.figure(figsize=(15, 15))\n",
    "  plot_col_index = self.column_indices[plot_col]\n",
    "  max_n = min(max_subplots, len(inputs))\n",
    "  for n in range(max_n):\n",
    "    plt.subplot(3, 1, n+1)\n",
    "\n",
    "    if title is not None and n==0:\n",
    "      plt.title(title)\n",
    "\n",
    "    plt.xticks(np.arange(0, len(self.input_indices)+1, step=1))\n",
    "    \n",
    "    plt.ylabel(f'{plot_col} [znormalizowana wartość]')\n",
    "    plt.plot(self.input_indices, inputs[n, :, plot_col_index],\n",
    "             label='Wejście', marker='.', zorder=-10)\n",
    "\n",
    "    if self.label_columns:\n",
    "      label_col_index = self.label_columns_indices.get(plot_col, None)\n",
    "    else:\n",
    "      label_col_index = plot_col_index\n",
    " \n",
    "    if label_col_index is None:\n",
    "      continue\n",
    "\n",
    "    plt.scatter(self.label_indices, labels[n, :, label_col_index],\n",
    "                edgecolors='k', label='Prawdziwe wartości', c='#2ca02c', s=64)\n",
    "    if model is not None:\n",
    "      predictions = model(inputs)\n",
    "  \n",
    "      plt.scatter(self.label_indices, predictions[n, :, label_col_index],\n",
    "                  marker='X', edgecolors='k', label='Predykcje',\n",
    "                  c='#ff7f0e', s=64)\n",
    "    if additionalModels is not None:\n",
    "        for aModel in additionalModels:\n",
    "            predictions = aModel(inputs)\n",
    "            plt.scatter(self.label_indices, predictions[n, :, label_col_index], label='Predykcjee', s=64)       \n",
    "    if n == 0:\n",
    "      plt.legend()\n",
    "\n",
    "  plt.xlabel('Czas od pierwszej próbki [h]')\n",
    "\n",
    "WindowGenerator.plotMany = plotMany"
   ]
  },
  {
   "cell_type": "code",
   "execution_count": null,
   "metadata": {},
   "outputs": [],
   "source": [
    "# wide_window.plotMany(model20, additionalModels=np.array([model40]))"
   ]
  },
  {
   "cell_type": "code",
   "execution_count": null,
   "metadata": {},
   "outputs": [],
   "source": [
    "# plotLossHistory(history, figsize=(20,8))"
   ]
  },
  {
   "cell_type": "code",
   "execution_count": null,
   "metadata": {},
   "outputs": [],
   "source": [
    "# plotMAEHistory(history)"
   ]
  },
  {
   "cell_type": "code",
   "execution_count": null,
   "metadata": {
    "tags": []
   },
   "outputs": [],
   "source": [
    "# for name, value in performance_single.items():\n",
    "#   print(f'{name:12s}: {value[1]:0.4f}')"
   ]
  },
  {
   "cell_type": "code",
   "execution_count": null,
   "metadata": {},
   "outputs": [],
   "source": [
    "baseline = Baseline()\n",
    "baseline.compile(loss=tf.losses.MeanSquaredError(),\n",
    "                 metrics=[tf.metrics.MeanAbsoluteError()])"
   ]
  },
  {
   "cell_type": "code",
   "execution_count": null,
   "metadata": {
    "tags": []
   },
   "outputs": [],
   "source": [
    "val_performance = {}\n",
    "performance = {}\n",
    "val_performance['Baseline'] = baseline.evaluate(wide_window.val)\n",
    "performance['Baseline'] = baseline.evaluate(wide_window.test, verbose=0)"
   ]
  },
  {
   "cell_type": "code",
   "execution_count": null,
   "metadata": {},
   "outputs": [],
   "source": [
    "OUT_STEPS = 24\n",
    "multi_window = WindowGenerator(input_width=24,\n",
    "                               label_width=OUT_STEPS,\n",
    "                               shift=OUT_STEPS)\n",
    "\n",
    "multi_window.plot()\n",
    "multi_window"
   ]
  },
  {
   "cell_type": "code",
   "execution_count": null,
   "metadata": {
    "tags": []
   },
   "outputs": [],
   "source": [
    "class MultiStepLastBaseline(tf.keras.Model):\n",
    "  def call(self, inputs):\n",
    "    return tf.tile(inputs[:, -1:, :], [1, OUT_STEPS, 1])\n",
    "\n",
    "last_baseline = MultiStepLastBaseline()\n",
    "last_baseline.compile(loss=tf.losses.MeanSquaredError(),\n",
    "                      metrics=[tf.metrics.MeanAbsoluteError()])\n",
    "\n",
    "multi_val_performance = {}\n",
    "multi_performance = {}\n",
    "\n",
    "multi_val_performance['Last'] = last_baseline.evaluate(multi_window.val)\n",
    "multi_performance['Last'] = last_baseline.evaluate(multi_window.val, verbose=0)\n",
    "multi_window.plot(last_baseline)"
   ]
  },
  {
   "cell_type": "code",
   "execution_count": null,
   "metadata": {
    "tags": []
   },
   "outputs": [],
   "source": [
    "class RepeatBaseline(tf.keras.Model):\n",
    "  def call(self, inputs):\n",
    "    return inputs\n",
    "\n",
    "repeat_baseline = RepeatBaseline()\n",
    "repeat_baseline.compile(loss=tf.losses.MeanSquaredError(),\n",
    "                        metrics=[tf.metrics.MeanAbsoluteError()])\n",
    "\n",
    "multi_val_performance['Repeat'] = repeat_baseline.evaluate(multi_window.val)\n",
    "multi_performance['Repeat'] = repeat_baseline.evaluate(multi_window.test, verbose=0)\n",
    "multi_window.plot(repeat_baseline)"
   ]
  },
  {
   "cell_type": "code",
   "execution_count": null,
   "metadata": {
    "tags": []
   },
   "outputs": [],
   "source": [
    "multi_lstm_model = tf.keras.Sequential([\n",
    "    # Shape [batch, time, features] => [batch, lstm_units]\n",
    "    # Adding more `lstm_units` just overfits more quickly.\n",
    "    tf.keras.layers.LSTM(24, return_sequences=True),\n",
    "    tf.keras.layers.LSTM(24, return_sequences=False),\n",
    "    # Shape => [batch, out_steps*features]\n",
    "    tf.keras.layers.Dense(OUT_STEPS*num_features,\n",
    "                          kernel_initializer=tf.initializers.zeros),\n",
    "    # Shape => [batch, out_steps, features]\n",
    "    tf.keras.layers.Reshape([OUT_STEPS, num_features])\n",
    "])\n",
    "\n",
    "history = compile_and_fit(multi_lstm_model, multi_window)\n",
    "\n",
    "IPython.display.clear_output()\n",
    "\n",
    "multi_val_performance['LSTM'] = multi_lstm_model.evaluate(multi_window.val)\n",
    "multi_performance['LSTM'] = multi_lstm_model.evaluate(multi_window.train, verbose=0)\n",
    "multi_window.plot(multi_lstm_model)"
   ]
  },
  {
   "cell_type": "code",
   "execution_count": null,
   "metadata": {
    "tags": []
   },
   "outputs": [],
   "source": [
    "multi_gru_model = tf.keras.Sequential([\n",
    "    # Shape [batch, time, features] => [batch, lstm_units]\n",
    "    # Adding more `lstm_units` just overfits more quickly.\n",
    "    tf.keras.layers.GRU(24, return_sequences=True),\n",
    "    tf.keras.layers.GRU(24, return_sequences=False),\n",
    "    # Shape => [batch, out_steps*features]\n",
    "    tf.keras.layers.Dense(OUT_STEPS*num_features,\n",
    "                          kernel_initializer=tf.initializers.zeros),\n",
    "    # Shape => [batch, out_steps, features]\n",
    "    tf.keras.layers.Reshape([OUT_STEPS, num_features])\n",
    "])\n",
    "\n",
    "history = compile_and_fit(multi_gru_model, multi_window)\n",
    "\n",
    "IPython.display.clear_output()\n",
    "\n",
    "multi_val_performance['GRU'] = multi_gru_model.evaluate(multi_window.val)\n",
    "multi_performance['GRU'] = multi_gru_model.evaluate(multi_window.train, verbose=0)\n",
    "multi_window.plot(multi_gru_model)"
   ]
  },
  {
   "cell_type": "code",
   "execution_count": 159,
   "metadata": {
    "tags": []
   },
   "outputs": [
    {
     "output_type": "stream",
     "name": "stdout",
     "text": "validation\n38/38 [==============================] - 0s 7ms/step - loss: 0.0047 - mean_absolute_error: 0.0438\ntest\n18/18 [==============================] - 0s 7ms/step - loss: 0.0042 - mean_absolute_error: 0.0423\n['5 & 61.246 & 0.0046 & 0.0428 & 0.0053 & 0.0498 \\\\\\\\', '10 & 61.891 & 0.0100 & 0.0734 & 0.0344 & 0.1651 \\\\\\\\', '20 & 64.311 & 0.0052 & 0.0470 & 0.0104 & 0.0830 \\\\\\\\', '30 & 65.813 & 0.0062 & 0.0564 & 0.0192 & 0.1236 \\\\\\\\', '40 & 65.965 & 0.0056 & 0.0527 & 0.0094 & 0.0822 \\\\\\\\', '50 & 69.623 & 0.0049 & 0.0442 & 0.0047 & 0.0458 \\\\\\\\', '60 & 73.377 & 0.0048 & 0.0442 & 0.0064 & 0.0598 \\\\\\\\', '80 & 72.527 & 0.0059 & 0.0545 & 0.0061 & 0.0575 \\\\\\\\', '120 & 90.961 & 0.0049 & 0.0443 & 0.0045 & 0.0435 \\\\\\\\', '240 & 150.378 & 0.0047 & 0.0438 & 0.0042 & 0.0423 \\\\\\\\']\n"
    }
   ],
   "source": [
    "import time\n",
    "\n",
    "val_performance_single={}\n",
    "performance_single={}\n",
    "def exper(n=10, layerType=tf.keras.layers.LSTM):\n",
    "    start = time.time()\n",
    "\n",
    "    print(f\"n={n}\")\n",
    "\n",
    "    rnn_model = ResidualWrapper(tf.keras.Sequential([\n",
    "        tf.keras.layers.GRU(n, return_sequences=True),\n",
    "        tf.keras.layers.GRU(n, return_sequences=False),\n",
    "        # tf.keras.layers.LSTM(n, return_sequences=True),\n",
    "        # tf.keras.layers.LSTM(n, return_sequences=True),\n",
    "        tf.keras.layers.Dense(OUT_STEPS,kernel_initializer=tf.initializers.zeros),\n",
    "        tf.keras.layers.Reshape([OUT_STEPS, 1])\n",
    "    ]))\n",
    "\n",
    "    history = compile_and_fit(rnn_model, multi_window, max_epochs=50, patience=50)\n",
    "\n",
    "    IPython.display.clear_output()\n",
    "\n",
    "    end = time.time()\n",
    "    print(\"validation\")\n",
    "    val_performance_single['RNN'] = rnn_model.evaluate(multi_window.val, verbose=1)\n",
    "    vali=val_performance_single['RNN']\n",
    "    print(\"test\")\n",
    "    performance_single['RNN'] = rnn_model.evaluate(multi_window.test, verbose=1)\n",
    "    testi=performance_single['RNN']\n",
    "\n",
    "    ret = f\"{n} & {end-start:0.3f} & {vali[0]:0.4f} & {vali[1]:0.4f} & {testi[0]:0.4f} & {testi[1]:0.4f} \\\\\\\\\"\n",
    "\n",
    "    return ret, rnn_model, history\n",
    "\n",
    "# ret, model, history = exper(n=120)\n",
    "# ret, model40, history = exper(n=40)\n",
    "\n",
    "# print(ret)\n",
    "# 20,30,40,50,60,80,120,240\n",
    "#5,10,20,30,40,50,60,80,120 \n",
    "xd = [exper(i, layerType=tf.keras.layers.LSTM)[0] for i in np.array([5,10,20,30,40,50,60,80,120,240])]\n",
    "print(xd)\n",
    "\n",
    "\n",
    "# multi_window.plot(model)"
   ]
  },
  {
   "cell_type": "code",
   "execution_count": null,
   "metadata": {},
   "outputs": [],
   "source": []
  }
 ]
}